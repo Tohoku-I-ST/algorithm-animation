{
 "cells": [
  {
   "cell_type": "code",
   "execution_count": null,
   "metadata": {},
   "outputs": [
    {
     "name": "stderr",
     "output_type": "stream",
     "text": [
      "UsageError: unrecognized arguments: # Jupyterで静的なグラフを表示するため\n"
     ]
    }
   ],
   "source": [
    "%matplotlib inline\n",
    "\n",
    "import matplotlib.pyplot as plt\n",
    "import numpy as np\n",
    "from matplotlib.animation import FuncAnimation\n",
    "import matplotlib.animation as animation\n",
    "from IPython.display import Image\n",
    "\n",
    "# 逐次探索の関数\n",
    "def linear_search(arr, target):\n",
    "    for i, val in enumerate(arr):\n",
    "        if val == target:\n",
    "            return i\n",
    "    return -1\n",
    "\n",
    "# アニメーション用の関数\n",
    "def animate_search(arr, target):\n",
    "    fig, ax = plt.subplots(figsize=(10, 5))\n",
    "    bar_rects = ax.bar(range(len(arr)), arr, color='lightblue')\n",
    "    text = ax.text(0.5, 1.05, \"\", ha='center', transform=ax.transAxes)\n",
    "    \n",
    "    # グラフの余白を調整\n",
    "    plt.subplots_adjust(top=0.85, bottom=0.15, left=0.1, right=0.9)\n",
    "\n",
    "    def update(frame):\n",
    "        # すべてリセット\n",
    "        for rect in bar_rects:\n",
    "            rect.set_color('lightblue')\n",
    "\n",
    "        # 現在の探索対象を赤く\n",
    "        bar_rects[frame].set_color('red')\n",
    "        text.set_text(f\"Searching for {target}...\")\n",
    "\n",
    "        if arr[frame] == target:\n",
    "            text.set_text(f\"Found {target}! (Index {frame})\")\n",
    "            return bar_rects, text  # ターゲットを見つけた時\n",
    "        elif frame == len(arr) - 1:\n",
    "            text.set_text(f\"{target} not found.\")\n",
    "            return bar_rects, text  # 探索が最後まで進んだ場合\n",
    "\n",
    "        return bar_rects, text\n",
    "\n",
    "    # FuncAnimationを使ってアニメーションを生成\n",
    "    ani = FuncAnimation(fig, update, frames=len(arr), interval=500, repeat=False)\n",
    "\n",
    "    ani.save('animation.gif', writer='imagemagick', fps=2)\n",
    "    plt.close(fig)  # 描画を終了\n",
    "\n",
    "    # Jupyter Notebook内で表示\n",
    "    return Image(filename='animation.gif')\n",
    "\n",
    "# データの準備\n",
    "np.random.seed(0)\n",
    "arr = np.random.randint(1, 20, 9)  # ランダムに9個生成\n",
    "arr = np.append(arr, 5)  # 必ず5を追加してターゲットを確実に含むようにする\n",
    "target = 5  # 探すターゲット\n",
    "\n",
    "# 逐次探索の実行\n",
    "index = linear_search(arr, target)\n",
    "print(f\"Index of target ({target}): {index}\")\n",
    "\n",
    "# アニメーションの実行\n",
    "animate_search(arr, target)\n"
   ]
  }
 ],
 "metadata": {
  "kernelspec": {
   "display_name": "Python 3",
   "language": "python",
   "name": "python3"
  },
  "language_info": {
   "codemirror_mode": {
    "name": "ipython",
    "version": 3
   },
   "file_extension": ".py",
   "mimetype": "text/x-python",
   "name": "python",
   "nbconvert_exporter": "python",
   "pygments_lexer": "ipython3",
   "version": "3.12.5"
  }
 },
 "nbformat": 4,
 "nbformat_minor": 2
}
